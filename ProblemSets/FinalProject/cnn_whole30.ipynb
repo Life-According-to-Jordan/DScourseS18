{
 "cells": [
  {
   "cell_type": "code",
   "execution_count": 1,
   "metadata": {},
   "outputs": [
    {
     "name": "stdout",
     "output_type": "stream",
     "text": [
      "/Users/jordan/Desktop/CatDog\n"
     ]
    }
   ],
   "source": [
    "cd desktop/catdog"
   ]
  },
  {
   "cell_type": "code",
   "execution_count": 3,
   "metadata": {},
   "outputs": [
    {
     "name": "stdout",
     "output_type": "stream",
     "text": [
      "Found 20000 images belonging to 2 classes.\n",
      "Found 5000 images belonging to 2 classes.\n"
     ]
    },
    {
     "name": "stderr",
     "output_type": "stream",
     "text": [
      "/Library/Frameworks/Python.framework/Versions/3.6/lib/python3.6/site-packages/ipykernel_launcher.py:87: UserWarning: Update your `fit_generator` call to the Keras 2 API: `fit_generator(<keras.pre..., epochs=30, steps_per_epoch=1250, validation_data=<keras.pre..., validation_steps=4000)`\n"
     ]
    },
    {
     "name": "stdout",
     "output_type": "stream",
     "text": [
      "Epoch 1/30\n",
      "1250/1250 [==============================] - 3193s 3s/step - loss: 0.6112 - acc: 0.6505 - val_loss: 0.4862 - val_acc: 0.7647\n",
      "Epoch 2/30\n",
      "1250/1250 [==============================] - 1449s 1s/step - loss: 0.4771 - acc: 0.7772 - val_loss: 0.4256 - val_acc: 0.8082\n",
      "Epoch 3/30\n",
      "1250/1250 [==============================] - 3535s 3s/step - loss: 0.4027 - acc: 0.8199 - val_loss: 0.4394 - val_acc: 0.7929\n",
      "Epoch 4/30\n",
      "1250/1250 [==============================] - 2471s 2s/step - loss: 0.3537 - acc: 0.8474 - val_loss: 0.4029 - val_acc: 0.8228\n",
      "Epoch 5/30\n",
      "1250/1250 [==============================] - 2425s 2s/step - loss: 0.3161 - acc: 0.8647 - val_loss: 0.3442 - val_acc: 0.8475\n",
      "Epoch 6/30\n",
      "1250/1250 [==============================] - 2394s 2s/step - loss: 0.2825 - acc: 0.8818 - val_loss: 0.3375 - val_acc: 0.8572\n",
      "Epoch 7/30\n",
      "1250/1250 [==============================] - 2431s 2s/step - loss: 0.2551 - acc: 0.8948 - val_loss: 0.3227 - val_acc: 0.8689\n",
      "Epoch 8/30\n",
      "1250/1250 [==============================] - 2438s 2s/step - loss: 0.2338 - acc: 0.9028 - val_loss: 0.3418 - val_acc: 0.8533\n",
      "Epoch 9/30\n",
      "1250/1250 [==============================] - 2409s 2s/step - loss: 0.2124 - acc: 0.9122 - val_loss: 0.3455 - val_acc: 0.8705\n",
      "Epoch 10/30\n",
      "1250/1250 [==============================] - 2420s 2s/step - loss: 0.1965 - acc: 0.9211 - val_loss: 0.3791 - val_acc: 0.8647\n",
      "Epoch 11/30\n",
      "1250/1250 [==============================] - 2434s 2s/step - loss: 0.1833 - acc: 0.9253 - val_loss: 0.3846 - val_acc: 0.8524\n",
      "Epoch 12/30\n",
      "1250/1250 [==============================] - 2343s 2s/step - loss: 0.1709 - acc: 0.9312 - val_loss: 0.5211 - val_acc: 0.8315\n",
      "Epoch 13/30\n",
      "1250/1250 [==============================] - 2376s 2s/step - loss: 0.1537 - acc: 0.9394 - val_loss: 0.3726 - val_acc: 0.8641\n",
      "Epoch 14/30\n",
      "1250/1250 [==============================] - 2403s 2s/step - loss: 0.1364 - acc: 0.9455 - val_loss: 0.3897 - val_acc: 0.8714\n",
      "Epoch 15/30\n",
      "1250/1250 [==============================] - 2731s 2s/step - loss: 0.1335 - acc: 0.9451 - val_loss: 0.4558 - val_acc: 0.8559\n",
      "Epoch 16/30\n",
      "1250/1250 [==============================] - 1357s 1s/step - loss: 0.1212 - acc: 0.9523 - val_loss: 0.4991 - val_acc: 0.8582\n",
      "Epoch 17/30\n",
      "1250/1250 [==============================] - 1342s 1s/step - loss: 0.1128 - acc: 0.9551 - val_loss: 0.4042 - val_acc: 0.8719\n",
      "Epoch 18/30\n",
      "1250/1250 [==============================] - 1544s 1s/step - loss: 0.1120 - acc: 0.9562 - val_loss: 0.4591 - val_acc: 0.8703\n",
      "Epoch 19/30\n",
      "1250/1250 [==============================] - 1456s 1s/step - loss: 0.1056 - acc: 0.9577 - val_loss: 0.4670 - val_acc: 0.8690\n",
      "Epoch 20/30\n",
      "1250/1250 [==============================] - 1498s 1s/step - loss: 0.0958 - acc: 0.9625 - val_loss: 0.4724 - val_acc: 0.8621\n",
      "Epoch 21/30\n",
      "1250/1250 [==============================] - 1522s 1s/step - loss: 0.0878 - acc: 0.9659 - val_loss: 0.5706 - val_acc: 0.8740\n",
      "Epoch 22/30\n",
      "1250/1250 [==============================] - 1479s 1s/step - loss: 0.0927 - acc: 0.9645 - val_loss: 0.5411 - val_acc: 0.8661\n",
      "Epoch 23/30\n",
      "1250/1250 [==============================] - 1495s 1s/step - loss: 0.0872 - acc: 0.9659 - val_loss: 0.5464 - val_acc: 0.8665\n",
      "Epoch 24/30\n",
      "1250/1250 [==============================] - 1475s 1s/step - loss: 0.0831 - acc: 0.9685 - val_loss: 0.6186 - val_acc: 0.8663\n",
      "Epoch 25/30\n",
      "1250/1250 [==============================] - 1577s 1s/step - loss: 0.0813 - acc: 0.9688 - val_loss: 0.5560 - val_acc: 0.8570\n",
      "Epoch 26/30\n",
      "1250/1250 [==============================] - 1614s 1s/step - loss: 0.0779 - acc: 0.9704 - val_loss: 0.5371 - val_acc: 0.8645\n",
      "Epoch 27/30\n",
      "1250/1250 [==============================] - 5958s 5s/step - loss: 0.0719 - acc: 0.9722 - val_loss: 0.6812 - val_acc: 0.8606\n",
      "Epoch 28/30\n",
      "1250/1250 [==============================] - 1494s 1s/step - loss: 0.0640 - acc: 0.9750 - val_loss: 0.6375 - val_acc: 0.8696\n",
      "Epoch 29/30\n",
      "1250/1250 [==============================] - 8379s 7s/step - loss: 0.0654 - acc: 0.9750 - val_loss: 0.6425 - val_acc: 0.8673\n",
      "Epoch 30/30\n",
      "1250/1250 [==============================] - 1608s 1s/step - loss: 0.0658 - acc: 0.9740 - val_loss: 0.6316 - val_acc: 0.8750\n"
     ]
    },
    {
     "data": {
      "text/plain": [
       "[0.6322468603862655, 0.8749450549450549]"
      ]
     },
     "execution_count": 3,
     "metadata": {},
     "output_type": "execute_result"
    }
   ],
   "source": [
    "import PIL\n",
    "import h5py\n",
    "import pandas as pd\n",
    "import numpy as np\n",
    "import tensorflow as tf\n",
    "import os\n",
    "import keras\n",
    "from keras.models import Sequential\n",
    "from keras.layers import Activation, Dropout, Flatten, Dense\n",
    "from keras.layers import Conv2D, MaxPooling2D, ZeroPadding2D\n",
    "from keras.preprocessing.image import ImageDataGenerator\n",
    "from keras.applications import imagenet_utils\n",
    "from keras import optimizers\n",
    "from ipykernel import kernelapp as app\n",
    "\n",
    "train_data_dir = 'data/train'\n",
    "validation_data_dir = 'data/validation'\n",
    "\n",
    "img_width, img_height = 150, 150\n",
    "\n",
    "# used to rescale the pixel values from [0, 255] to [0, 1] interval\n",
    "datagen = ImageDataGenerator(rescale=1./255)\n",
    "\n",
    "# automagically retrieve images and their classes for train and validation sets\n",
    "train_generator = datagen.flow_from_directory(\n",
    "        train_data_dir,\n",
    "        target_size=(img_width, img_height),\n",
    "        batch_size=16,\n",
    "        class_mode='binary')\n",
    "\n",
    "validation_generator = datagen.flow_from_directory(\n",
    "        validation_data_dir,\n",
    "        target_size=(img_width, img_height),\n",
    "        batch_size=32,\n",
    "        class_mode='binary')\n",
    "\n",
    "#layer 1\n",
    "model = Sequential()\n",
    "model.add(Conv2D(32, (3, 3), input_shape=(img_width, img_height,3)))\n",
    "model.add(Activation('relu'))\n",
    "model.add(MaxPooling2D(pool_size=(3, 3)))\n",
    "\n",
    "#layer 2\n",
    "model.add(Conv2D(32, (3, 3)))\n",
    "model.add(Activation('relu'))\n",
    "model.add(MaxPooling2D(pool_size=(3, 3)))\n",
    "\n",
    "#layer 3\n",
    "model.add(Conv2D(64, (3, 3)))\n",
    "model.add(Activation('relu'))\n",
    "model.add(MaxPooling2D(pool_size=(3, 3)))\n",
    "\n",
    "#paramters\n",
    "model.add(Flatten())\n",
    "model.add(Dense(64))\n",
    "model.add(Activation('relu'))\n",
    "model.add(Dropout(0.5))\n",
    "model.add(Dense(1))\n",
    "model.add(Activation('sigmoid'))\n",
    "\n",
    "model.compile(loss='binary_crossentropy',\n",
    "              optimizer='adam',\n",
    "              metrics=['accuracy'])\n",
    "\n",
    "#model parameters\n",
    "\n",
    "#iterations\n",
    "epochs = 30\n",
    "\n",
    "#training data size\n",
    "nb_train_samples = 20000\n",
    "\n",
    "#validation data size \n",
    "validation_steps = 4000\n",
    "\n",
    "#steps per iteration\n",
    "steps_per_epoch = 1250\n",
    "\n",
    "model.fit_generator(\n",
    "        train_generator,\n",
    "        samples_per_epoch = nb_train_samples,\n",
    "        epochs            = epochs,\n",
    "        steps_per_epoch   = steps_per_epoch,\n",
    "        validation_data   = validation_generator,\n",
    "        validation_steps  = validation_steps)\n",
    "\n",
    "model.evaluate_generator(validation_generator, validation_steps)"
   ]
  },
  {
   "cell_type": "code",
   "execution_count": 4,
   "metadata": {},
   "outputs": [
    {
     "name": "stdout",
     "output_type": "stream",
     "text": [
      "Found 20000 images belonging to 2 classes.\n"
     ]
    }
   ],
   "source": [
    "train_datagen_augmented = ImageDataGenerator(\n",
    "        rescale=1./255,        # normalize pixel values to [0,1]\n",
    "        shear_range=0.2,       # randomly applies shearing transformation\n",
    "        zoom_range=0.2,        # randomly applies shearing transformation\n",
    "        horizontal_flip=True)  # randomly flip the images\n",
    "\n",
    "# same code as before\n",
    "train_generator_augmented = train_datagen_augmented.flow_from_directory(\n",
    "        train_data_dir,\n",
    "        target_size=(img_width, img_height),\n",
    "        batch_size=32,\n",
    "        class_mode='binary')"
   ]
  },
  {
   "cell_type": "code",
   "execution_count": 5,
   "metadata": {},
   "outputs": [
    {
     "name": "stderr",
     "output_type": "stream",
     "text": [
      "/Library/Frameworks/Python.framework/Versions/3.6/lib/python3.6/site-packages/ipykernel_launcher.py:7: UserWarning: Update your `fit_generator` call to the Keras 2 API: `fit_generator(<keras.pre..., epochs=30, steps_per_epoch=625, validation_data=<keras.pre..., validation_steps=4000)`\n",
      "  import sys\n"
     ]
    },
    {
     "name": "stdout",
     "output_type": "stream",
     "text": [
      "Epoch 1/30\n",
      "625/625 [==============================] - 1719s 3s/step - loss: 0.3113 - acc: 0.8706 - val_loss: 0.3400 - val_acc: 0.8640\n",
      "Epoch 2/30\n",
      "625/625 [==============================] - 1682s 3s/step - loss: 0.2848 - acc: 0.8769 - val_loss: 0.3168 - val_acc: 0.8668\n",
      "Epoch 3/30\n",
      "625/625 [==============================] - 1471s 2s/step - loss: 0.2679 - acc: 0.8868 - val_loss: 0.3082 - val_acc: 0.8825\n",
      "Epoch 4/30\n",
      "625/625 [==============================] - 1543s 2s/step - loss: 0.2616 - acc: 0.8903 - val_loss: 0.3311 - val_acc: 0.8769\n",
      "Epoch 5/30\n",
      "625/625 [==============================] - 1602s 3s/step - loss: 0.2524 - acc: 0.8939 - val_loss: 0.2918 - val_acc: 0.8838\n",
      "Epoch 6/30\n",
      "625/625 [==============================] - 1383s 2s/step - loss: 0.2432 - acc: 0.8980 - val_loss: 0.2866 - val_acc: 0.8884\n",
      "Epoch 7/30\n",
      "625/625 [==============================] - 1367s 2s/step - loss: 0.2360 - acc: 0.9026 - val_loss: 0.3242 - val_acc: 0.8728\n",
      "Epoch 8/30\n",
      "625/625 [==============================] - 3718s 6s/step - loss: 0.2336 - acc: 0.9014 - val_loss: 0.2723 - val_acc: 0.8936\n",
      "Epoch 9/30\n",
      "625/625 [==============================] - 2779s 4s/step - loss: 0.2273 - acc: 0.9063 - val_loss: 0.2595 - val_acc: 0.8982\n",
      "Epoch 10/30\n",
      "625/625 [==============================] - 2663s 4s/step - loss: 0.2180 - acc: 0.9107 - val_loss: 0.2630 - val_acc: 0.9002\n",
      "Epoch 11/30\n",
      "625/625 [==============================] - 2526s 4s/step - loss: 0.2220 - acc: 0.9102 - val_loss: 0.2466 - val_acc: 0.9027\n",
      "Epoch 12/30\n",
      "625/625 [==============================] - 2611s 4s/step - loss: 0.2144 - acc: 0.9123 - val_loss: 0.2621 - val_acc: 0.9002\n",
      "Epoch 13/30\n",
      "625/625 [==============================] - 2571s 4s/step - loss: 0.2101 - acc: 0.9138 - val_loss: 0.2581 - val_acc: 0.8981\n",
      "Epoch 14/30\n",
      "625/625 [==============================] - 2609s 4s/step - loss: 0.2110 - acc: 0.9149 - val_loss: 0.2518 - val_acc: 0.9001\n",
      "Epoch 15/30\n",
      "625/625 [==============================] - 2422s 4s/step - loss: 0.2019 - acc: 0.9175 - val_loss: 0.2724 - val_acc: 0.9014\n",
      "Epoch 16/30\n",
      "625/625 [==============================] - 2510s 4s/step - loss: 0.2036 - acc: 0.9182 - val_loss: 0.2411 - val_acc: 0.9023\n",
      "Epoch 17/30\n",
      "625/625 [==============================] - 2485s 4s/step - loss: 0.1993 - acc: 0.9175 - val_loss: 0.2354 - val_acc: 0.9039\n",
      "Epoch 18/30\n",
      "625/625 [==============================] - 2488s 4s/step - loss: 0.1960 - acc: 0.9211 - val_loss: 0.2397 - val_acc: 0.9039\n",
      "Epoch 19/30\n",
      "625/625 [==============================] - 2265s 4s/step - loss: 0.1946 - acc: 0.9195 - val_loss: 0.2433 - val_acc: 0.9021\n",
      "Epoch 20/30\n",
      "625/625 [==============================] - 1634s 3s/step - loss: 0.1969 - acc: 0.9189 - val_loss: 0.2563 - val_acc: 0.8984\n",
      "Epoch 21/30\n",
      "625/625 [==============================] - 1497s 2s/step - loss: 0.1870 - acc: 0.9237 - val_loss: 0.2439 - val_acc: 0.9086\n",
      "Epoch 22/30\n",
      "625/625 [==============================] - 1692s 3s/step - loss: 0.1906 - acc: 0.9240 - val_loss: 0.2597 - val_acc: 0.9048\n",
      "Epoch 23/30\n",
      "625/625 [==============================] - 1407s 2s/step - loss: 0.1879 - acc: 0.9234 - val_loss: 0.2351 - val_acc: 0.9055\n",
      "Epoch 24/30\n",
      "625/625 [==============================] - 1414s 2s/step - loss: 0.1789 - acc: 0.9267 - val_loss: 0.2336 - val_acc: 0.9075\n",
      "Epoch 25/30\n",
      "625/625 [==============================] - 1480s 2s/step - loss: 0.1815 - acc: 0.9280 - val_loss: 0.2425 - val_acc: 0.9115\n",
      "Epoch 26/30\n",
      "625/625 [==============================] - 1635s 3s/step - loss: 0.1821 - acc: 0.9263 - val_loss: 0.2302 - val_acc: 0.9109\n",
      "Epoch 27/30\n",
      "625/625 [==============================] - 1933s 3s/step - loss: 0.1802 - acc: 0.9256 - val_loss: 0.2370 - val_acc: 0.9041\n",
      "Epoch 28/30\n",
      "625/625 [==============================] - 1754s 3s/step - loss: 0.1746 - acc: 0.9257 - val_loss: 0.2756 - val_acc: 0.8964\n",
      "Epoch 29/30\n",
      "625/625 [==============================] - 1570s 3s/step - loss: 0.1721 - acc: 0.9306 - val_loss: 0.2381 - val_acc: 0.9154\n",
      "Epoch 30/30\n",
      "625/625 [==============================] - 1550s 2s/step - loss: 0.1724 - acc: 0.9305 - val_loss: 0.2346 - val_acc: 0.9111\n"
     ]
    },
    {
     "data": {
      "text/plain": [
       "<keras.callbacks.History at 0x1215dacf8>"
      ]
     },
     "execution_count": 5,
     "metadata": {},
     "output_type": "execute_result"
    }
   ],
   "source": [
    "model.fit_generator(\n",
    "        train_generator_augmented,\n",
    "        samples_per_epoch = nb_train_samples,\n",
    "        epochs            = epochs,\n",
    "        steps_per_epoch   = steps_per_epoch,\n",
    "        validation_data   = validation_generator,\n",
    "        validation_steps  = validation_steps)"
   ]
  },
  {
   "cell_type": "code",
   "execution_count": 6,
   "metadata": {},
   "outputs": [
    {
     "data": {
      "text/plain": [
       "[0.23457237300356293, 0.9109419152276295]"
      ]
     },
     "execution_count": 6,
     "metadata": {},
     "output_type": "execute_result"
    }
   ],
   "source": [
    "model.evaluate_generator(validation_generator, validation_steps)"
   ]
  }
 ],
 "metadata": {
  "kernelspec": {
   "display_name": "SP_chatbot",
   "language": "python",
   "name": "sp_chatbot"
  },
  "language_info": {
   "codemirror_mode": {
    "name": "ipython",
    "version": 3
   },
   "file_extension": ".py",
   "mimetype": "text/x-python",
   "name": "python",
   "nbconvert_exporter": "python",
   "pygments_lexer": "ipython3",
   "version": "3.6.4"
  }
 },
 "nbformat": 4,
 "nbformat_minor": 2
}
